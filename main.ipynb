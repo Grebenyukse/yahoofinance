{
 "cells": [
  {
   "cell_type": "code",
   "execution_count": null,
   "metadata": {},
   "outputs": [],
   "source": [
    "from dao.setupschema import clear_schema, setup_schema\n",
    "from files.get_tickers import load_tickers\n",
    "from service.firstlaunch import first_launch\n",
    "\n",
    "from service.marketdata import update_market_info\n",
    "from service.signals import update_signals, publish_alerts\n",
    "\n",
    "\n",
    "\n",
    "print('start update market info')\n",
    "# update_market_info()\n",
    "print('start update signals')\n",
    "update_signals()\n",
    "# print('start sending alerts')\n",
    "# publish_alerts()\n",
    "\n",
    "# from exchange.yahoo import load\n",
    "# from plot.render import plot_test\n",
    "\n",
    "# prices = load('MSFT')\n",
    "# plot_test(prices)\n",
    "\n",
    "# from exchange.yahoo import load\n",
    "# from plot.render import plot_test\n",
    "# from dao.marketdata import fetch_market_data_for_ticker\n",
    "\n",
    "# # prices = load('MSFT')da\n",
    "# prices = fetch_market_data_for_ticker('MSFT')\n",
    "# plot_test(prices)\n",
    "\n",
    "print('finish mf')"
   ]
  }
 ],
 "metadata": {
  "interpreter": {
   "hash": "9c4f931fffb365597242252a9a9d864ce46873ed4f305414323c266fc1ed1455"
  },
  "kernelspec": {
   "display_name": "Python 3.10.0 ('.venv': venv)",
   "language": "python",
   "name": "python3"
  },
  "language_info": {
   "codemirror_mode": {
    "name": "ipython",
    "version": 3
   },
   "file_extension": ".py",
   "mimetype": "text/x-python",
   "name": "python",
   "nbconvert_exporter": "python",
   "pygments_lexer": "ipython3",
   "version": "3.10.0"
  },
  "orig_nbformat": 4
 },
 "nbformat": 4,
 "nbformat_minor": 2
}
